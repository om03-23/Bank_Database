{
 "cells": [
  {
   "cell_type": "code",
   "execution_count": 1,
   "id": "f0d89b85-eb72-42c1-a569-b3c5d5ebcc12",
   "metadata": {},
   "outputs": [],
   "source": [
    "import sqlite3\n",
    "import pandas as pd\n",
    "from datetime import datetime"
   ]
  },
  {
   "cell_type": "code",
   "execution_count": 3,
   "id": "fa9f84a1-ee1a-496a-b424-7a0c4e4547a7",
   "metadata": {},
   "outputs": [],
   "source": [
    "conn = sqlite3.connect(\"bank.db\")\n",
    "cursor = conn.cursor()"
   ]
  },
  {
   "cell_type": "code",
   "execution_count": 5,
   "id": "e95883c3-bbf8-4ba3-9c40-c350c8e2fd33",
   "metadata": {},
   "outputs": [],
   "source": [
    "# Customers table\n",
    "cursor.execute('''\n",
    "CREATE TABLE IF NOT EXISTS customers (\n",
    "    customer_id INTEGER PRIMARY KEY AUTOINCREMENT,\n",
    "    name TEXT NOT NULL,\n",
    "    email TEXT UNIQUE NOT NULL\n",
    ")\n",
    "''')\n",
    "\n",
    "# Accounts table\n",
    "cursor.execute('''\n",
    "CREATE TABLE IF NOT EXISTS accounts (\n",
    "    account_id INTEGER PRIMARY KEY AUTOINCREMENT,\n",
    "    customer_id INTEGER,\n",
    "    balance REAL DEFAULT 0.0,\n",
    "    FOREIGN KEY(customer_id) REFERENCES customers(customer_id)\n",
    ")\n",
    "''')\n",
    "\n",
    "# Transactions table\n",
    "cursor.execute('''\n",
    "CREATE TABLE IF NOT EXISTS transactions (\n",
    "    transaction_id INTEGER PRIMARY KEY AUTOINCREMENT,\n",
    "    account_id INTEGER,\n",
    "    type TEXT,\n",
    "    amount REAL,\n",
    "    timestamp TEXT,\n",
    "    FOREIGN KEY(account_id) REFERENCES accounts(account_id)\n",
    ")\n",
    "''')\n",
    "conn.commit()"
   ]
  },
  {
   "cell_type": "code",
   "execution_count": 7,
   "id": "f81dfb49-9b40-4ba4-ad60-7e2f9b9ad532",
   "metadata": {},
   "outputs": [],
   "source": [
    "# Insert customers\n",
    "customers = [\n",
    "    ('Alice', 'alice@example.com'),\n",
    "    ('Bob', 'bob@example.com')\n",
    "]\n",
    "cursor.executemany('INSERT INTO customers (name, email) VALUES (?, ?)', customers)\n",
    "\n",
    "# Create accounts for each customer\n",
    "cursor.execute('INSERT INTO accounts (customer_id, balance) VALUES (1, 1000.0)')\n",
    "cursor.execute('INSERT INTO accounts (customer_id, balance) VALUES (2, 500.0)')\n",
    "conn.commit()"
   ]
  },
  {
   "cell_type": "code",
   "execution_count": 9,
   "id": "c4ba8a01-045c-419d-b557-9b18ac497df7",
   "metadata": {},
   "outputs": [
    {
     "name": "stdout",
     "output_type": "stream",
     "text": [
      "Deposited $200.0 into account 1\n"
     ]
    }
   ],
   "source": [
    "def deposit(account_id, amount):\n",
    "    cursor.execute(\"UPDATE accounts SET balance = balance + ? WHERE account_id = ?\", (amount, account_id))\n",
    "    cursor.execute(\"INSERT INTO transactions (account_id, type, amount, timestamp) VALUES (?, 'deposit', ?, ?)\",\n",
    "                   (account_id, amount, datetime.now().strftime(\"%Y-%m-%d %H:%M:%S\")))\n",
    "    conn.commit()\n",
    "    print(f\"Deposited ${amount} into account {account_id}\")\n",
    "\n",
    "deposit(1, 200.0)"
   ]
  },
  {
   "cell_type": "code",
   "execution_count": 11,
   "id": "8c95bd97-05e2-40fe-99c1-ed85bdcb7b4c",
   "metadata": {},
   "outputs": [
    {
     "name": "stdout",
     "output_type": "stream",
     "text": [
      "Withdrew $100.0 from account 2\n"
     ]
    }
   ],
   "source": [
    "def withdraw(account_id, amount):\n",
    "    cursor.execute(\"SELECT balance FROM accounts WHERE account_id = ?\", (account_id,))\n",
    "    balance = cursor.fetchone()[0]\n",
    "    \n",
    "    if balance >= amount:\n",
    "        cursor.execute(\"UPDATE accounts SET balance = balance - ? WHERE account_id = ?\", (amount, account_id))\n",
    "        cursor.execute(\"INSERT INTO transactions (account_id, type, amount, timestamp) VALUES (?, 'withdraw', ?, ?)\",\n",
    "                       (account_id, amount, datetime.now().strftime(\"%Y-%m-%d %H:%M:%S\")))\n",
    "        conn.commit()\n",
    "        print(f\"Withdrew ${amount} from account {account_id}\")\n",
    "    else:\n",
    "        print(\"Insufficient balance\")\n",
    "\n",
    "withdraw(2, 100.0)"
   ]
  },
  {
   "cell_type": "code",
   "execution_count": 13,
   "id": "976f6837-b729-4f5a-8eda-f25b870f25e3",
   "metadata": {},
   "outputs": [
    {
     "name": "stdout",
     "output_type": "stream",
     "text": [
      "Transferred $150.0 from account 1 to account 2\n"
     ]
    }
   ],
   "source": [
    "def transfer(from_id, to_id, amount):\n",
    "    cursor.execute(\"SELECT balance FROM accounts WHERE account_id = ?\", (from_id,))\n",
    "    from_balance = cursor.fetchone()[0]\n",
    "    \n",
    "    if from_balance >= amount:\n",
    "        cursor.execute(\"UPDATE accounts SET balance = balance - ? WHERE account_id = ?\", (amount, from_id))\n",
    "        cursor.execute(\"UPDATE accounts SET balance = balance + ? WHERE account_id = ?\", (amount, to_id))\n",
    "        \n",
    "        timestamp = datetime.now().strftime(\"%Y-%m-%d %H:%M:%S\")\n",
    "        cursor.execute(\"INSERT INTO transactions (account_id, type, amount, timestamp) VALUES (?, 'transfer-out', ?, ?)\",\n",
    "                       (from_id, amount, timestamp))\n",
    "        cursor.execute(\"INSERT INTO transactions (account_id, type, amount, timestamp) VALUES (?, 'transfer-in', ?, ?)\",\n",
    "                       (to_id, amount, timestamp))\n",
    "        conn.commit()\n",
    "        print(f\"Transferred ${amount} from account {from_id} to account {to_id}\")\n",
    "    else:\n",
    "        print(\"Transfer failed: Insufficient balance\")\n",
    "\n",
    "transfer(1, 2, 150.0)"
   ]
  },
  {
   "cell_type": "code",
   "execution_count": 15,
   "id": "065cb09f-e77e-426c-b407-9aac7e98880c",
   "metadata": {},
   "outputs": [
    {
     "data": {
      "text/html": [
       "<div>\n",
       "<style scoped>\n",
       "    .dataframe tbody tr th:only-of-type {\n",
       "        vertical-align: middle;\n",
       "    }\n",
       "\n",
       "    .dataframe tbody tr th {\n",
       "        vertical-align: top;\n",
       "    }\n",
       "\n",
       "    .dataframe thead th {\n",
       "        text-align: right;\n",
       "    }\n",
       "</style>\n",
       "<table border=\"1\" class=\"dataframe\">\n",
       "  <thead>\n",
       "    <tr style=\"text-align: right;\">\n",
       "      <th></th>\n",
       "      <th>transaction_id</th>\n",
       "      <th>account_id</th>\n",
       "      <th>type</th>\n",
       "      <th>amount</th>\n",
       "      <th>timestamp</th>\n",
       "    </tr>\n",
       "  </thead>\n",
       "  <tbody>\n",
       "    <tr>\n",
       "      <th>0</th>\n",
       "      <td>3</td>\n",
       "      <td>1</td>\n",
       "      <td>transfer-out</td>\n",
       "      <td>150.0</td>\n",
       "      <td>2025-05-14 13:19:01</td>\n",
       "    </tr>\n",
       "    <tr>\n",
       "      <th>1</th>\n",
       "      <td>1</td>\n",
       "      <td>1</td>\n",
       "      <td>deposit</td>\n",
       "      <td>200.0</td>\n",
       "      <td>2025-05-14 13:18:38</td>\n",
       "    </tr>\n",
       "  </tbody>\n",
       "</table>\n",
       "</div>"
      ],
      "text/plain": [
       "   transaction_id  account_id          type  amount            timestamp\n",
       "0               3           1  transfer-out   150.0  2025-05-14 13:19:01\n",
       "1               1           1       deposit   200.0  2025-05-14 13:18:38"
      ]
     },
     "execution_count": 15,
     "metadata": {},
     "output_type": "execute_result"
    }
   ],
   "source": [
    "def view_transactions(account_id):\n",
    "    df = pd.read_sql_query(\"SELECT * FROM transactions WHERE account_id = ? ORDER BY timestamp DESC\", conn, params=(account_id,))\n",
    "    return df\n",
    "\n",
    "view_transactions(1)"
   ]
  },
  {
   "cell_type": "code",
   "execution_count": 17,
   "id": "2c666b20-89f2-415e-8924-0bdc6fe27a38",
   "metadata": {},
   "outputs": [],
   "source": [
    "conn.close()"
   ]
  },
  {
   "cell_type": "code",
   "execution_count": null,
   "id": "a637a998-dcb5-4ee7-b764-a72edecda5b5",
   "metadata": {},
   "outputs": [],
   "source": []
  }
 ],
 "metadata": {
  "kernelspec": {
   "display_name": "Python 3 (ipykernel)",
   "language": "python",
   "name": "python3"
  },
  "language_info": {
   "codemirror_mode": {
    "name": "ipython",
    "version": 3
   },
   "file_extension": ".py",
   "mimetype": "text/x-python",
   "name": "python",
   "nbconvert_exporter": "python",
   "pygments_lexer": "ipython3",
   "version": "3.12.7"
  }
 },
 "nbformat": 4,
 "nbformat_minor": 5
}
